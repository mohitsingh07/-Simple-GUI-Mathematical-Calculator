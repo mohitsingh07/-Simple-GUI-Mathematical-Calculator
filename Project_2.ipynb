{
 "cells": [
  {
   "cell_type": "code",
   "execution_count": 2,
   "id": "99816eee",
   "metadata": {},
   "outputs": [
    {
     "name": "stdout",
     "output_type": "stream",
     "text": [
      "Enter a random number 23\n",
      "is not present in the list\n"
     ]
    }
   ],
   "source": [
    "List = [x for x in range (0,101,2)]\n",
    "user_input = int(input(\"Enter a random number \"))\n",
    "\n",
    "start = 0\n",
    "end = len(List)-1\n",
    "\n",
    "\n",
    "def binarySearch(List,start,end,input1):\n",
    "    \n",
    "    if end >= start:\n",
    "        mid = int((start+end)/2)\n",
    "\n",
    "\n",
    "        if user_input == List[mid]:\n",
    "            return print(\"Number is present in the list\")\n",
    "        elif user_input<List[mid]:\n",
    "            return binarySearch(List,start,mid-1,input1)\n",
    "        elif user_input>List[mid]:\n",
    "            return binarySearch(List,mid+1,end,input1)\n",
    "    else:\n",
    "        return print(\"Number is not present in the list\")\n",
    "\n",
    "binarySearch(List,start,end,user_input)\n"
   ]
  },
  {
   "cell_type": "code",
   "execution_count": null,
   "id": "6877a4f9",
   "metadata": {},
   "outputs": [],
   "source": []
  },
  {
   "cell_type": "code",
   "execution_count": null,
   "id": "d08deb29",
   "metadata": {},
   "outputs": [],
   "source": []
  }
 ],
 "metadata": {
  "kernelspec": {
   "display_name": "Python 3 (ipykernel)",
   "language": "python",
   "name": "python3"
  },
  "language_info": {
   "codemirror_mode": {
    "name": "ipython",
    "version": 3
   },
   "file_extension": ".py",
   "mimetype": "text/x-python",
   "name": "python",
   "nbconvert_exporter": "python",
   "pygments_lexer": "ipython3",
   "version": "3.9.7"
  }
 },
 "nbformat": 4,
 "nbformat_minor": 5
}
