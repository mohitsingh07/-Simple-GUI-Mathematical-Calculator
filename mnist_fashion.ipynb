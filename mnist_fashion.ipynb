{
  "cells": [
    {
      "cell_type": "markdown",
      "metadata": {
        "id": "view-in-github",
        "colab_type": "text"
      },
      "source": [
        "<a href=\"https://colab.research.google.com/github/mohitsingh07/-Simple-GUI-Mathematical-Calculator/blob/main/mnist_fashion.ipynb\" target=\"_parent\"><img src=\"https://colab.research.google.com/assets/colab-badge.svg\" alt=\"Open In Colab\"/></a>"
      ]
    },
    {
      "cell_type": "code",
      "execution_count": 4,
      "id": "e2d8436f",
      "metadata": {
        "id": "e2d8436f"
      },
      "outputs": [],
      "source": [
        "import numpy as np\n",
        "import pandas as pd\n",
        "from matplotlib import pyplot as plt"
      ]
    },
    {
      "cell_type": "code",
      "execution_count": 6,
      "id": "8c2e3af8",
      "metadata": {
        "id": "8c2e3af8"
      },
      "outputs": [],
      "source": [
        "data = pd.read_csv(\"/content/drive/MyDrive/assignments/minist fashion/fashion-mnist_train.csv\")"
      ]
    },
    {
      "cell_type": "code",
      "execution_count": 7,
      "id": "ec94ac06",
      "metadata": {
        "id": "ec94ac06"
      },
      "outputs": [],
      "source": [
        "data = np.array(data)\n",
        "m, n = data.shape\n",
        "np.random.shuffle(data)\n",
        "\n",
        "data_test = data[0:1000].T\n",
        "Y_test = data_test[0]\n",
        "X_test = data_test[1:n]\n",
        "X_test = X_test / 255.\n",
        "\n",
        "data_train = data[10000:m].T\n",
        "Y_train = data_train[0]\n",
        "X_train = data_train[1:n]\n",
        "X_train = X_train / 255.\n",
        "_,m_train = X_train.shape"
      ]
    },
    {
      "cell_type": "code",
      "execution_count": 8,
      "id": "b0240ef1",
      "metadata": {
        "id": "b0240ef1"
      },
      "outputs": [],
      "source": [
        "def init_params():\n",
        "    W1 = np.random.rand(10, 784) - 0.5\n",
        "    b1 = np.random.rand(10, 1) - 0.5\n",
        "    W2 = np.random.rand(10, 10) - 0.5\n",
        "    b2 = np.random.rand(10, 1) - 0.5\n",
        "    return W1, b1, W2, b2\n"
      ]
    },
    {
      "cell_type": "code",
      "execution_count": 9,
      "id": "d181f93a",
      "metadata": {
        "id": "d181f93a"
      },
      "outputs": [],
      "source": [
        "def ReLU(Z):\n",
        "    return np.maximum(Z, 0)\n"
      ]
    },
    {
      "cell_type": "code",
      "execution_count": 10,
      "id": "6fff2769",
      "metadata": {
        "id": "6fff2769"
      },
      "outputs": [],
      "source": [
        "def softmax(Z):\n",
        "    A = np.exp(Z) / sum(np.exp(Z))\n",
        "    return A"
      ]
    },
    {
      "cell_type": "code",
      "execution_count": 11,
      "id": "30299cdf",
      "metadata": {
        "id": "30299cdf"
      },
      "outputs": [],
      "source": [
        "def forward_prop(W1, b1, W2, b2, X):\n",
        "    Z1 = W1.dot(X) + b1\n",
        "    A1 = ReLU(Z1)\n",
        "    Z2 = W2.dot(A1) + b2\n",
        "    A2 = softmax(Z2)\n",
        "    return Z1, A1, Z2, A2\n"
      ]
    },
    {
      "cell_type": "code",
      "execution_count": 12,
      "id": "87c44823",
      "metadata": {
        "id": "87c44823"
      },
      "outputs": [],
      "source": [
        "def ReLU_deriv(Z):\n",
        "    return Z > 0\n"
      ]
    },
    {
      "cell_type": "code",
      "execution_count": 13,
      "id": "33eb0d9c",
      "metadata": {
        "id": "33eb0d9c"
      },
      "outputs": [],
      "source": [
        "def one_hot(Y):\n",
        "    one_hot_Y = np.zeros((Y.size, Y.max() + 1))\n",
        "    one_hot_Y[np.arange(Y.size), Y] = 1\n",
        "    one_hot_Y = one_hot_Y.T\n",
        "    return one_hot_Y"
      ]
    },
    {
      "cell_type": "code",
      "execution_count": 14,
      "id": "c624811e",
      "metadata": {
        "id": "c624811e"
      },
      "outputs": [],
      "source": [
        "def backward_prop(Z1, A1, Z2, A2, W1, W2, X, Y):\n",
        "    one_hot_Y = one_hot(Y)\n",
        "    dZ2 = A2 - one_hot_Y\n",
        "    dW2 = 1 / m * dZ2.dot(A1.T)\n",
        "    db2 = 1 / m * np.sum(dZ2)\n",
        "    dZ1 = W2.T.dot(dZ2) * ReLU_deriv(Z1)\n",
        "    dW1 = 1 / m * dZ1.dot(X.T)\n",
        "    db1 = 1 / m * np.sum(dZ1)\n",
        "    return dW1, db1, dW2, db2"
      ]
    },
    {
      "cell_type": "code",
      "execution_count": 15,
      "id": "53e5b6c2",
      "metadata": {
        "id": "53e5b6c2"
      },
      "outputs": [],
      "source": [
        "def update_params(W1, b1, W2, b2, dW1, db1, dW2, db2, alpha):\n",
        "    W1 = W1 - alpha * dW1\n",
        "    b1 = b1 - alpha * db1\n",
        "    W2 = W2 - alpha * dW2\n",
        "    b2 = b2 - alpha * db2\n",
        "    return W1, b1, W2, b2"
      ]
    },
    {
      "cell_type": "code",
      "execution_count": 16,
      "id": "ad3b2172",
      "metadata": {
        "id": "ad3b2172"
      },
      "outputs": [],
      "source": [
        "def get_predictions(A2):\n",
        "    return np.argmax(A2, 0)\n",
        "\n",
        "def get_accuracy(predictions, Y):\n",
        "    print(predictions, Y)\n",
        "    return np.sum(predictions == Y) / Y.size\n",
        "\n",
        "def gradient_descent(X, Y, alpha, iterations):\n",
        "    W1, b1, W2, b2 = init_params()\n",
        "    for i in range(iterations):\n",
        "        Z1, A1, Z2, A2 = forward_prop(W1, b1, W2, b2, X)\n",
        "        dW1, db1, dW2, db2 = backward_prop(Z1, A1, Z2, A2, W1, W2, X, Y)\n",
        "        W1, b1, W2, b2 = update_params(W1, b1, W2, b2, dW1, db1, dW2, db2, alpha)\n",
        "        if i % 10 == 0:\n",
        "            print(\"Iteration: \", i)\n",
        "            predictions = get_predictions(A2)\n",
        "            print(get_accuracy(predictions, Y))\n",
        "    return W1, b1, W2, b2"
      ]
    },
    {
      "cell_type": "code",
      "execution_count": 17,
      "id": "f2ee6d03",
      "metadata": {
        "colab": {
          "base_uri": "https://localhost:8080/"
        },
        "id": "f2ee6d03",
        "outputId": "7e17a27e-5098-4cd8-9397-9c0720501a7b"
      },
      "outputs": [
        {
          "output_type": "stream",
          "name": "stdout",
          "text": [
            "Iteration:  0\n",
            "[6 1 6 ... 7 7 7] [9 7 6 ... 4 5 8]\n",
            "0.0627\n",
            "Iteration:  10\n",
            "[7 1 4 ... 8 7 4] [9 7 6 ... 4 5 8]\n",
            "0.21978\n",
            "Iteration:  20\n",
            "[7 9 4 ... 8 7 4] [9 7 6 ... 4 5 8]\n",
            "0.32608\n",
            "Iteration:  30\n",
            "[9 9 4 ... 6 7 4] [9 7 6 ... 4 5 8]\n",
            "0.4145\n",
            "Iteration:  40\n",
            "[9 9 4 ... 6 7 7] [9 7 6 ... 4 5 8]\n",
            "0.47478\n",
            "Iteration:  50\n",
            "[9 9 4 ... 6 7 8] [9 7 6 ... 4 5 8]\n",
            "0.51956\n",
            "Iteration:  60\n",
            "[9 9 4 ... 6 7 8] [9 7 6 ... 4 5 8]\n",
            "0.55096\n",
            "Iteration:  70\n",
            "[9 9 4 ... 6 9 8] [9 7 6 ... 4 5 8]\n",
            "0.57484\n",
            "Iteration:  80\n",
            "[9 9 4 ... 2 9 8] [9 7 6 ... 4 5 8]\n",
            "0.59316\n",
            "Iteration:  90\n",
            "[9 9 4 ... 2 9 8] [9 7 6 ... 4 5 8]\n",
            "0.60644\n",
            "Iteration:  100\n",
            "[9 9 4 ... 2 9 8] [9 7 6 ... 4 5 8]\n",
            "0.61664\n",
            "Iteration:  110\n",
            "[9 9 4 ... 2 9 8] [9 7 6 ... 4 5 8]\n",
            "0.62742\n",
            "Iteration:  120\n",
            "[9 9 4 ... 2 9 8] [9 7 6 ... 4 5 8]\n",
            "0.63656\n",
            "Iteration:  130\n",
            "[9 9 4 ... 2 9 8] [9 7 6 ... 4 5 8]\n",
            "0.64502\n",
            "Iteration:  140\n",
            "[9 9 4 ... 2 9 8] [9 7 6 ... 4 5 8]\n",
            "0.6526\n",
            "Iteration:  150\n",
            "[9 9 4 ... 2 9 8] [9 7 6 ... 4 5 8]\n",
            "0.6599\n",
            "Iteration:  160\n",
            "[9 9 4 ... 6 9 8] [9 7 6 ... 4 5 8]\n",
            "0.66496\n",
            "Iteration:  170\n",
            "[9 9 4 ... 6 9 8] [9 7 6 ... 4 5 8]\n",
            "0.67012\n",
            "Iteration:  180\n",
            "[9 9 4 ... 6 9 8] [9 7 6 ... 4 5 8]\n",
            "0.67544\n",
            "Iteration:  190\n",
            "[9 9 4 ... 6 9 8] [9 7 6 ... 4 5 8]\n",
            "0.68054\n",
            "Iteration:  200\n",
            "[9 9 4 ... 6 9 8] [9 7 6 ... 4 5 8]\n",
            "0.685\n",
            "Iteration:  210\n",
            "[9 9 4 ... 6 9 8] [9 7 6 ... 4 5 8]\n",
            "0.68924\n",
            "Iteration:  220\n",
            "[9 9 4 ... 6 9 8] [9 7 6 ... 4 5 8]\n",
            "0.69332\n",
            "Iteration:  230\n",
            "[9 9 4 ... 6 9 8] [9 7 6 ... 4 5 8]\n",
            "0.69688\n",
            "Iteration:  240\n",
            "[9 9 4 ... 6 9 8] [9 7 6 ... 4 5 8]\n",
            "0.70028\n",
            "Iteration:  250\n",
            "[9 9 4 ... 6 9 8] [9 7 6 ... 4 5 8]\n",
            "0.70292\n",
            "Iteration:  260\n",
            "[9 9 4 ... 4 9 8] [9 7 6 ... 4 5 8]\n",
            "0.68532\n",
            "Iteration:  270\n",
            "[9 9 4 ... 4 9 8] [9 7 6 ... 4 5 8]\n",
            "0.68682\n",
            "Iteration:  280\n",
            "[9 9 4 ... 4 9 8] [9 7 6 ... 4 5 8]\n",
            "0.69708\n",
            "Iteration:  290\n",
            "[9 9 4 ... 4 9 8] [9 7 6 ... 4 5 8]\n",
            "0.70496\n",
            "Iteration:  300\n",
            "[9 9 4 ... 6 9 8] [9 7 6 ... 4 5 8]\n",
            "0.7098\n",
            "Iteration:  310\n",
            "[9 9 4 ... 4 9 8] [9 7 6 ... 4 5 8]\n",
            "0.71352\n",
            "Iteration:  320\n",
            "[9 9 4 ... 4 9 8] [9 7 6 ... 4 5 8]\n",
            "0.71658\n",
            "Iteration:  330\n",
            "[9 9 4 ... 4 9 8] [9 7 6 ... 4 5 8]\n",
            "0.71918\n",
            "Iteration:  340\n",
            "[9 9 4 ... 4 9 8] [9 7 6 ... 4 5 8]\n",
            "0.72152\n",
            "Iteration:  350\n",
            "[9 9 4 ... 4 9 8] [9 7 6 ... 4 5 8]\n",
            "0.72394\n",
            "Iteration:  360\n",
            "[9 9 4 ... 4 9 8] [9 7 6 ... 4 5 8]\n",
            "0.72624\n",
            "Iteration:  370\n",
            "[9 9 4 ... 4 9 8] [9 7 6 ... 4 5 8]\n",
            "0.72836\n",
            "Iteration:  380\n",
            "[9 9 4 ... 4 9 8] [9 7 6 ... 4 5 8]\n",
            "0.73082\n",
            "Iteration:  390\n",
            "[9 9 4 ... 4 9 8] [9 7 6 ... 4 5 8]\n",
            "0.73284\n",
            "Iteration:  400\n",
            "[9 9 4 ... 4 5 8] [9 7 6 ... 4 5 8]\n",
            "0.73522\n",
            "Iteration:  410\n",
            "[9 9 4 ... 4 5 8] [9 7 6 ... 4 5 8]\n",
            "0.73716\n",
            "Iteration:  420\n",
            "[9 9 4 ... 4 5 8] [9 7 6 ... 4 5 8]\n",
            "0.73928\n",
            "Iteration:  430\n",
            "[9 9 4 ... 4 5 8] [9 7 6 ... 4 5 8]\n",
            "0.74106\n",
            "Iteration:  440\n",
            "[9 9 4 ... 4 5 8] [9 7 6 ... 4 5 8]\n",
            "0.74314\n",
            "Iteration:  450\n",
            "[9 9 4 ... 4 5 8] [9 7 6 ... 4 5 8]\n",
            "0.74458\n",
            "Iteration:  460\n",
            "[9 9 4 ... 4 5 8] [9 7 6 ... 4 5 8]\n",
            "0.74612\n",
            "Iteration:  470\n",
            "[9 9 4 ... 4 5 8] [9 7 6 ... 4 5 8]\n",
            "0.74776\n",
            "Iteration:  480\n",
            "[9 9 4 ... 4 5 8] [9 7 6 ... 4 5 8]\n",
            "0.74938\n",
            "Iteration:  490\n",
            "[9 9 4 ... 4 5 8] [9 7 6 ... 4 5 8]\n",
            "0.75064\n"
          ]
        }
      ],
      "source": [
        "W1, b1, W2, b2 = gradient_descent(X_train, Y_train, 0.10, 500)"
      ]
    },
    {
      "cell_type": "code",
      "execution_count": 18,
      "id": "ed98bba5",
      "metadata": {
        "id": "ed98bba5"
      },
      "outputs": [],
      "source": [
        "def make_predictions(X, W1, b1, W2, b2):\n",
        "    _, _, _, A2 = forward_prop(W1, b1, W2, b2, X)\n",
        "    predictions = get_predictions(A2)\n",
        "    return predictions\n",
        "\n",
        "def test_prediction(index, W1, b1, W2, b2):\n",
        "    current_image = X_train[:, index, None]\n",
        "    prediction = make_predictions(X_train[:, index, None], W1, b1, W2, b2)\n",
        "    label = Y_train[index]\n",
        "    print(\"Prediction: \", prediction)\n",
        "    print(\"Label: \", label)\n",
        "\n",
        "    current_image = current_image.reshape((28, 28)) * 255\n",
        "    plt.gray()\n",
        "    plt.imshow(current_image, interpolation='nearest')\n",
        "    plt.show()"
      ]
    },
    {
      "cell_type": "code",
      "execution_count": 19,
      "id": "4cb8d91d",
      "metadata": {
        "colab": {
          "base_uri": "https://localhost:8080/",
          "height": 1000
        },
        "id": "4cb8d91d",
        "outputId": "a6bb4274-7993-4a0d-cdd1-1cac1febc615"
      },
      "outputs": [
        {
          "output_type": "stream",
          "name": "stdout",
          "text": [
            "Prediction:  [9]\n",
            "Label:  9\n"
          ]
        },
        {
          "output_type": "display_data",
          "data": {
            "text/plain": [
              "<Figure size 640x480 with 1 Axes>"
            ],
            "image/png": "[encoded data removed]"
          },
          "metadata": {}
        },
        {
          "output_type": "stream",
          "name": "stdout",
          "text": [
            "Prediction:  [9]\n",
            "Label:  7\n"
          ]
        },
        {
          "output_type": "display_data",
          "data": {
            "text/plain": [
              "<Figure size 640x480 with 1 Axes>"
            ],
            "image/png": "[encoded data removed]"
          },
          "metadata": {}
        },
        {
          "output_type": "stream",
          "name": "stdout",
          "text": [
            "Prediction:  [0]\n",
            "Label:  0\n"
          ]
        },
        {
          "output_type": "display_data",
          "data": {
            "text/plain": [
              "<Figure size 640x480 with 1 Axes>"
            ],
            "image/png": "[encoded data removed]"
          },
          "metadata": {}
        },
        {
          "output_type": "stream",
          "name": "stdout",
          "text": [
            "Prediction:  [8]\n",
            "Label:  8\n"
          ]
        },
        {
          "output_type": "display_data",
          "data": {
            "text/plain": [
              "<Figure size 640x480 with 1 Axes>"
            ],
            "image/png": "[encoded data removed]"
          },
          "metadata": {}
        }
      ],
      "source": [
        "test_prediction(0, W1, b1, W2, b2)\n",
        "test_prediction(1, W1, b1, W2, b2)\n",
        "test_prediction(21, W1, b1, W2, b2)\n",
        "test_prediction(34, W1, b1, W2, b2)"
      ]
    },
    {
      "cell_type": "code",
      "execution_count": 19,
      "id": "eed62789",
      "metadata": {
        "id": "eed62789"
      },
      "outputs": [],
      "source": []
    },
    {
      "cell_type": "code",
      "source": [
        "from google.colab import drive\n",
        "drive.mount('/content/drive')"
      ],
      "metadata": {
        "colab": {
          "base_uri": "https://localhost:8080/"
        },
        "id": "2cP8lZ7xoA40",
        "outputId": "a4196c13-c5eb-4b70-e029-669fef53dc53"
      },
      "id": "2cP8lZ7xoA40",
      "execution_count": 20,
      "outputs": [
        {
          "output_type": "stream",
          "name": "stdout",
          "text": [
            "Drive already mounted at /content/drive; to attempt to forcibly remount, call drive.mount(\"/content/drive\", force_remount=True).\n"
          ]
        }
      ]
    },
    {
      "cell_type": "code",
      "execution_count": 20,
      "id": "ff8fe20e",
      "metadata": {
        "id": "ff8fe20e"
      },
      "outputs": [],
      "source": []
    }
  ],
  "metadata": {
    "kernelspec": {
      "display_name": "Python 3 (ipykernel)",
      "language": "python",
      "name": "python3"
    },
    "language_info": {
      "codemirror_mode": {
        "name": "ipython",
        "version": 3
      },
      "file_extension": ".py",
      "mimetype": "text/x-python",
      "name": "python",
      "nbconvert_exporter": "python",
      "pygments_lexer": "ipython3",
      "version": "3.9.7"
    },
    "colab": {
      "provenance": [],
      "include_colab_link": true
    }
  },
  "nbformat": 4,
  "nbformat_minor": 5
}